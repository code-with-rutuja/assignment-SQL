{
 "cells": [
  {
   "cell_type": "code",
   "execution_count": 1,
   "id": "264fe6db",
   "metadata": {},
   "outputs": [
    {
     "name": "stdout",
     "output_type": "stream",
     "text": [
      "Requirement already satisfied: mysql-connector-python in c:\\users\\intel\\anaconda3\\lib\\site-packages (8.2.0)\n",
      "Requirement already satisfied: protobuf<=4.21.12,>=4.21.1 in c:\\users\\intel\\anaconda3\\lib\\site-packages (from mysql-connector-python) (4.21.12)\n"
     ]
    }
   ],
   "source": [
    "!pip install mysql-connector-python"
   ]
  },
  {
   "cell_type": "code",
   "execution_count": 2,
   "id": "c51b3eb9",
   "metadata": {},
   "outputs": [],
   "source": [
    "import mysql.connector\n",
    "import os"
   ]
  },
  {
   "cell_type": "code",
   "execution_count": 9,
   "id": "c19def18",
   "metadata": {},
   "outputs": [
    {
     "name": "stdout",
     "output_type": "stream",
     "text": [
      "<mysql.connector.connection_cext.CMySQLConnection object at 0x000001F13A6ED390>\n"
     ]
    }
   ],
   "source": [
    "mydb=mysql.connector.connect(host=\"localhost\",user='Rutuja',password='rutu@1234')\n",
    "print(mydb)"
   ]
  },
  {
   "cell_type": "code",
   "execution_count": 10,
   "id": "dbf5e14f",
   "metadata": {},
   "outputs": [],
   "source": [
    "cursor=mydb.cursor()"
   ]
  },
  {
   "cell_type": "code",
   "execution_count": 11,
   "id": "cb004e53",
   "metadata": {},
   "outputs": [],
   "source": [
    "cursor.execute(\"CREATE DATABASE IF NOT EXISTS mydatabase\")"
   ]
  },
  {
   "cell_type": "code",
   "execution_count": 12,
   "id": "3ead23ef",
   "metadata": {},
   "outputs": [
    {
     "ename": "SyntaxError",
     "evalue": "invalid syntax (3691712257.py, line 1)",
     "output_type": "error",
     "traceback": [
      "\u001b[1;36m  Cell \u001b[1;32mIn[12], line 1\u001b[1;36m\u001b[0m\n\u001b[1;33m    CREATE TABLE Ages (\u001b[0m\n\u001b[1;37m           ^\u001b[0m\n\u001b[1;31mSyntaxError\u001b[0m\u001b[1;31m:\u001b[0m invalid syntax\n"
     ]
    }
   ],
   "source": [
    "CREATE TABLE Ages (\n",
    "     name VARCHAR(128),\n",
    "     age INTIGER\n",
    ")\n",
    "\n",
    "DELETE FROM Ages; \n",
    "INSERT INTO Ages (name, age) VALUE ('Mara', 28);\n",
    "INSERT INTO Ages (name, age) VALUE ('Otto', 33);\n",
    "INSERT INTO Ages (name, age) VALUE ('Fyn', 31);\n",
    "INSERT INTO Ages (name, age) VALUE  ('Neshwan',17);\n",
    "\n",
    "import sqlite\n",
    "db = sqlite3.connect(':memory:')\n",
    "\n",
    "cursor = db.cursor()\n",
    "cursor.execute('''\n",
    "      CREATE TABLE Ages (\n",
    "      name VARCHAR(128),\n",
    "      age INTIGER\n",
    "      )''')\n",
    "\n",
    "cursor.execute('''DELETE FROM Age''')\n",
    "\n",
    "cursor.execute('''INSERT INTO Ages(name,age) VALUES ('Mara', 28)''')\n",
    "cursor.execute('''INSERT INTO Ages(name,age) VALUES ('Otto', 33)''')\n",
    "cursor.execute('''INSERT INTO Ages(name,age) VALUES ('Fyn', 31)''')\n",
    "cursor.execute('''INSERT INTO Ages(name,age) VALUES ('Neshwan', 17)''')\n",
    "\n",
    "cursor.execute('''SELECT hex(name || age) AS X FROM AGES ORDER BY X''')\n",
    "\n",
    " user1 = cursor.fetchone()\n",
    "    print(\"The first row in the resultingrecord set :\"+user1[0])\n",
    "    \n",
    "    db.comit()"
   ]
  },
  {
   "cell_type": "code",
   "execution_count": null,
   "id": "b4f5ad6a",
   "metadata": {},
   "outputs": [],
   "source": []
  }
 ],
 "metadata": {
  "kernelspec": {
   "display_name": "Python 3 (ipykernel)",
   "language": "python",
   "name": "python3"
  },
  "language_info": {
   "codemirror_mode": {
    "name": "ipython",
    "version": 3
   },
   "file_extension": ".py",
   "mimetype": "text/x-python",
   "name": "python",
   "nbconvert_exporter": "python",
   "pygments_lexer": "ipython3",
   "version": "3.11.4"
  }
 },
 "nbformat": 4,
 "nbformat_minor": 5
}
